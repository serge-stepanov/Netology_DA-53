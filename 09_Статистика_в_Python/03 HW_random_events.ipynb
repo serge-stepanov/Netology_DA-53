{
  "nbformat": 4,
  "nbformat_minor": 0,
  "metadata": {
    "colab": {
      "provenance": []
    },
    "kernelspec": {
      "name": "python3",
      "display_name": "Python 3"
    },
    "language_info": {
      "name": "python"
    }
  },
  "cells": [
    {
      "cell_type": "markdown",
      "source": [
        "# Задание:\n",
        "Смоделировать игру против лотерейного автомата типа “777”. Игрок платит 1 руб., после чего выпадает случайное целое число, равномерно распределенное от 0 до 999. При некоторых значениях числа игрок получает выигрыш.\n",
        "\n",
        "* 777: 200 руб.\n",
        "* 999: 100 руб.\n",
        "* 555: 50 руб.\n",
        "* 333: 15 руб.\n",
        "* 111: 10 руб.\n",
        "* *77: 5 руб.\n",
        "* **7: 3 руб.\n",
        "* *00: 2 руб.\n",
        "* **0: 1 руб.\n",
        "\n",
        "Вопросы:\n",
        "\n",
        "* Выгодна ли игра игроку?\n",
        "* Сколько в среднем приобретает или теряет игрок за одну игру?"
      ],
      "metadata": {
        "id": "tJ17nKNTQdCY"
      }
    },
    {
      "cell_type": "code",
      "source": [
        "import numpy as np"
      ],
      "metadata": {
        "id": "9x225QKZQ8Te"
      },
      "execution_count": null,
      "outputs": []
    },
    {
      "cell_type": "code",
      "source": [
        "tests = 10000000    # Количество попыток (рублей в кошельке)\n",
        "increase = 0    # Выигрыш\n",
        "\n",
        "for i in range(tests + 1):\n",
        "    random_number = np.random.randint(0, 1000) \n",
        "    if random_number == 777:\n",
        "        increase += 200\n",
        "    elif random_number == 999:\n",
        "        increase += 100    \n",
        "    elif random_number == 555:\n",
        "        increase += 50    \n",
        "    elif random_number == 333:\n",
        "        increase += 15    \n",
        "    elif random_number == 111:\n",
        "        increase += 10\n",
        "    elif random_number%100 == 77:\n",
        "        increase += 5\n",
        "    elif random_number%10 == 7:\n",
        "        increase += 3\n",
        "    elif random_number%100 == 0:\n",
        "        increase += 2\n",
        "    elif random_number%10 == 0:\n",
        "        increase += 1        \n",
        "\n",
        "print(increase)            "
      ],
      "metadata": {
        "colab": {
          "base_uri": "https://localhost:8080/"
        },
        "id": "-R28NvQ1RQJM",
        "outputId": "2fb0fa77-f350-4c42-f3a4-a0d9110ec55f"
      },
      "execution_count": null,
      "outputs": [
        {
          "output_type": "stream",
          "name": "stdout",
          "text": [
            "7973567\n"
          ]
        }
      ]
    },
    {
      "cell_type": "code",
      "source": [
        "(10000000-7973567)/10000000"
      ],
      "metadata": {
        "colab": {
          "base_uri": "https://localhost:8080/"
        },
        "id": "U_u-YH9CSZh8",
        "outputId": "45e849e0-002e-4734-e38a-1a44236bab86"
      },
      "execution_count": null,
      "outputs": [
        {
          "output_type": "execute_result",
          "data": {
            "text/plain": [
              "0.2026433"
            ]
          },
          "metadata": {},
          "execution_count": 3
        }
      ]
    },
    {
      "cell_type": "markdown",
      "source": [
        "Игра не выгодна игроку.\n",
        "\n",
        "В среднем за игру игрок проигрывает примерно 20 коп ((10000000-7973567)/10000000)"
      ],
      "metadata": {
        "id": "K77daiNNShWL"
      }
    },
    {
      "cell_type": "code",
      "source": [
        "#сколько раз можно сыграть, если проигрывать выигрыш\n",
        "\n",
        "tests = 1000000    # Количество попыток (рублей в кошельке)\n",
        "count = 1\n",
        "while tests > 0:\n",
        "    random_number = np.random.randint(0, 1000) \n",
        "    if random_number == 777:\n",
        "        tests += 200\n",
        "    elif random_number == 999:\n",
        "        tests += 100    \n",
        "    elif random_number == 555:\n",
        "        tests += 50    \n",
        "    elif random_number == 333:\n",
        "        tests += 15    \n",
        "    elif random_number == 111:\n",
        "        tests += 10\n",
        "    elif random_number%100 == 77:\n",
        "        tests += 5\n",
        "    elif random_number%10 == 7:\n",
        "        tests += 3\n",
        "    elif str(random_number)[1:] == '00' or random_number == 0:\n",
        "        tests += 2\n",
        "    elif str(random_number)[1:] == '0'  or str(random_number)[2:] == '0':      \n",
        "        tests += 1\n",
        "    count += 1   \n",
        "    tests += -1\n",
        "print(count)"
      ],
      "metadata": {
        "colab": {
          "base_uri": "https://localhost:8080/"
        },
        "id": "Di2xxRTZSivR",
        "outputId": "6a54c6ef-34da-4475-f628-6a42e21e5fd7"
      },
      "execution_count": null,
      "outputs": [
        {
          "output_type": "stream",
          "name": "stdout",
          "text": [
            "5116612\n"
          ]
        }
      ]
    },
    {
      "cell_type": "code",
      "source": [
        "#проверка, действительно ли, теряя в среднем по 20 коп, за это кол-во попыток он проиграет 1000000\n",
        "5116612 * (10000000-7973567)/10000000 "
      ],
      "metadata": {
        "colab": {
          "base_uri": "https://localhost:8080/"
        },
        "id": "8YXMAmw0Tr_E",
        "outputId": "848eaebf-cb63-404c-b8e4-755ea6dd09b9"
      },
      "execution_count": null,
      "outputs": [
        {
          "output_type": "execute_result",
          "data": {
            "text/plain": [
              "1036847.1404996"
            ]
          },
          "metadata": {},
          "execution_count": 6
        }
      ]
    }
  ]
}