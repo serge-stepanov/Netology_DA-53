{
  "nbformat": 4,
  "nbformat_minor": 0,
  "metadata": {
    "colab": {
      "provenance": []
    },
    "kernelspec": {
      "name": "python3",
      "display_name": "Python 3"
    },
    "language_info": {
      "name": "python"
    }
  },
  "cells": [
    {
      "cell_type": "code",
      "source": [
        "import numpy as np  \n",
        "import pandas as pd  # для работы с таблицами\n",
        "from scipy import stats # При работе со статистикой\n",
        "import matplotlib.pyplot as plt  # Библиотека для визуализации результатов \n",
        "import seaborn as sns"
      ],
      "metadata": {
        "id": "JItyyFJ8CbQ6"
      },
      "execution_count": null,
      "outputs": []
    },
    {
      "cell_type": "markdown",
      "source": [
        "# Задание № 0\n",
        "Найдите минимально необходимый объем выборки для построения интервальной оценки среднего.\n",
        "\n",
        "* желаемая точность  Δ  = 3;\n",
        "* дисперсия  σ2  = 225;\n",
        "* уровень доверия  β  = 0.95.\n",
        "\n",
        "Ответ округлите до целого"
      ],
      "metadata": {
        "id": "TZ2B9rUYBrpW"
      }
    },
    {
      "cell_type": "code",
      "source": [
        "sigma = 225**(1/2)  # Стандартное отклонение\n",
        "Z = 2.241 #%  # Квантиль нормального распределения. (если 𝛽 = 0.95, то 1 - α/2 = 0,975, двухсторонний квантиль = 2.241)\n",
        "Delta = 3 #%         #Погрешность\n",
        "\n",
        "N = int(((sigma*Z)/Delta)**2)\n",
        "N\n"
      ],
      "metadata": {
        "colab": {
          "base_uri": "https://localhost:8080/"
        },
        "id": "9sr5TPCsczK3",
        "outputId": "7308b14d-5acf-4bab-9763-f6a626b47e1c"
      },
      "execution_count": null,
      "outputs": [
        {
          "output_type": "execute_result",
          "data": {
            "text/plain": [
              "125"
            ]
          },
          "metadata": {},
          "execution_count": 26
        }
      ]
    },
    {
      "cell_type": "code",
      "source": [
        "n = 126 #видимо обсчитался в первый раз, т.к. делал расчет на коленке"
      ],
      "metadata": {
        "id": "leyp_tgRCYDh"
      },
      "execution_count": null,
      "outputs": []
    },
    {
      "cell_type": "markdown",
      "source": [
        "# Задание № 1\n",
        "Постройте 98% доверительный интервал для среднего значения, если известно, что\n",
        "\n",
        "* объем выборки n = 25;\n",
        "* среднее значение по выборке x¯ = 130;\n",
        "* Из достоверных источников известно стандартное отклонение  σ=15 .\n",
        "\n",
        "В ответ укажите длину полученного доверительного интервала (разницу между правым и левым концом), окруленную до целого"
      ],
      "metadata": {
        "id": "rrKuS4TVCrzo"
      }
    },
    {
      "cell_type": "code",
      "source": [
        "sigma = 15\n",
        "n = 25\n",
        "mean = 130\n",
        "Z = 2.576 #(если 𝛽 = 0.98, то 1 - α/2 = 0,99, двухсторонний квантиль = 2.576)\n",
        "\n",
        "delta = (sigma/n**0.5)*Z\n",
        "L = round((mean + delta) - (mean - delta),0)\n",
        "L\n",
        "     "
      ],
      "metadata": {
        "colab": {
          "base_uri": "https://localhost:8080/"
        },
        "id": "4K0HP8uoRLKY",
        "outputId": "2a9a7d70-8af1-41d0-fc15-ad70a5e1ebe8"
      },
      "execution_count": null,
      "outputs": [
        {
          "output_type": "execute_result",
          "data": {
            "text/plain": [
              "15.0"
            ]
          },
          "metadata": {},
          "execution_count": 31
        }
      ]
    },
    {
      "cell_type": "code",
      "source": [
        "L = 8 #обсчитался, т.к. делал расчет на коленке, но сейчас не вспомню, как получилось 8... "
      ],
      "metadata": {
        "id": "wwfdfhMgCaNC"
      },
      "execution_count": null,
      "outputs": []
    },
    {
      "cell_type": "markdown",
      "source": [
        "# Задание № 2\n",
        "Даны две выборки роста мужчин и женщин.\n",
        "\n",
        "* Докажите, используя t-Тест Стьдента, что различие между выборками незначительно, если уровень значимости равен α = 0.001.\n",
        "* Покажите различия визуально"
      ],
      "metadata": {
        "id": "TSTYxaptC4mJ"
      }
    },
    {
      "cell_type": "code",
      "source": [
        "population_men  = stats.norm.rvs(loc=19, scale=171, size=11000000)  # Выборка мужчин со средним ростом 171\n",
        "population_women = stats.norm.rvs(loc=16, scale=165, size=12000)  # Выборка женщин со средним ростом 165"
      ],
      "metadata": {
        "id": "T0TPBBJyJUYu"
      },
      "execution_count": null,
      "outputs": []
    },
    {
      "cell_type": "code",
      "source": [
        "t, p = stats.ttest_ind(population_men, population_women)"
      ],
      "metadata": {
        "id": "qip48nR-JeXZ"
      },
      "execution_count": null,
      "outputs": []
    },
    {
      "cell_type": "code",
      "source": [
        "print(t, p)"
      ],
      "metadata": {
        "colab": {
          "base_uri": "https://localhost:8080/"
        },
        "id": "_XysSV1wJg3A",
        "outputId": "1b8f021b-a1e8-4f02-cf98-b7bd00e80d0b"
      },
      "execution_count": null,
      "outputs": [
        {
          "output_type": "stream",
          "name": "stdout",
          "text": [
            "1.1477422042699619 0.2510750277762733\n"
          ]
        }
      ]
    },
    {
      "cell_type": "markdown",
      "source": [
        "p больше чем α - значит различия незначительны, что и подтверждается графиком ниже"
      ],
      "metadata": {
        "id": "1KfytbP9JoTo"
      }
    },
    {
      "cell_type": "code",
      "source": [
        "plt.hist(population_men, bins=100, density=True);\n",
        "plt.hist(population_women, bins=100, density=True);"
      ],
      "metadata": {
        "colab": {
          "base_uri": "https://localhost:8080/",
          "height": 265
        },
        "id": "AbPMDofxJlNH",
        "outputId": "9d813c4d-b31b-4f50-e2ab-6fbdd7ceb00b"
      },
      "execution_count": null,
      "outputs": [
        {
          "output_type": "display_data",
          "data": {
            "text/plain": [
              "<Figure size 432x288 with 1 Axes>"
            ],
            "image/png": "[encoded data removed]"
          },
          "metadata": {
            "needs_background": "light"
          }
        }
      ]
    },
    {
      "cell_type": "markdown",
      "source": [
        "# Задание № 3\n",
        "Определите объем необходимой выборки для исследования среднего чека за кофе в случайном городе если известно, что в этом городе:\n",
        "\n",
        "* стандартное отклонение  σ=150 ;\n",
        "* уровень доверия  β  = 95%;\n",
        "* Погрешность  Δ=50  рублей."
      ],
      "metadata": {
        "id": "wUVzKXKPKdcE"
      }
    },
    {
      "cell_type": "code",
      "source": [
        "Z = 2.241\n",
        "N =round((Z*150/50)**2)\n",
        "N"
      ],
      "metadata": {
        "colab": {
          "base_uri": "https://localhost:8080/"
        },
        "id": "7nxslwVmKl4f",
        "outputId": "a88b6fe6-b5f9-4a86-96b4-e7525213f6a7"
      },
      "execution_count": null,
      "outputs": [
        {
          "output_type": "execute_result",
          "data": {
            "text/plain": [
              "45"
            ]
          },
          "metadata": {},
          "execution_count": 10
        }
      ]
    },
    {
      "cell_type": "markdown",
      "source": [
        "# Задание №4\n",
        "Представьте, что вы хотите разоблачить \"волшебника\" который считает, что умеет предсказывать погоду на завтра, отвечая просто: дождь или солнце. Вы пронаблюдали за ответами \"волшебника\" в течении какого-то периода времени и получили некие результаты (см.ниже).\n",
        "\n",
        "Можно ли сказать, что маг действительно умеет предсказывать погоду? Уровень значимости принять за 0.05 ( α=0.05 )."
      ],
      "metadata": {
        "id": "uegWTc_6LRRY"
      }
    },
    {
      "cell_type": "code",
      "source": [
        "observations = pd.DataFrame([[10,15],[39,34]],\n",
        "                            index=['Дождь','Солнце'],\n",
        "                            columns=['Ответ волшебника','Реальность'])\n",
        "observations"
      ],
      "metadata": {
        "colab": {
          "base_uri": "https://localhost:8080/",
          "height": 112
        },
        "id": "qPxM-ys3LYso",
        "outputId": "e559396c-8555-4483-b044-d3e62de7c59d"
      },
      "execution_count": null,
      "outputs": [
        {
          "output_type": "execute_result",
          "data": {
            "text/plain": [
              "        Ответ волшебника  Реальность\n",
              "Дождь                 10          15\n",
              "Солнце                39          34"
            ],
            "text/html": [
              "\n",
              "  <div id=\"df-393ee23d-31b7-444e-ae37-a8858e6af543\">\n",
              "    <div class=\"colab-df-container\">\n",
              "      <div>\n",
              "<style scoped>\n",
              "    .dataframe tbody tr th:only-of-type {\n",
              "        vertical-align: middle;\n",
              "    }\n",
              "\n",
              "    .dataframe tbody tr th {\n",
              "        vertical-align: top;\n",
              "    }\n",
              "\n",
              "    .dataframe thead th {\n",
              "        text-align: right;\n",
              "    }\n",
              "</style>\n",
              "<table border=\"1\" class=\"dataframe\">\n",
              "  <thead>\n",
              "    <tr style=\"text-align: right;\">\n",
              "      <th></th>\n",
              "      <th>Ответ волшебника</th>\n",
              "      <th>Реальность</th>\n",
              "    </tr>\n",
              "  </thead>\n",
              "  <tbody>\n",
              "    <tr>\n",
              "      <th>Дождь</th>\n",
              "      <td>10</td>\n",
              "      <td>15</td>\n",
              "    </tr>\n",
              "    <tr>\n",
              "      <th>Солнце</th>\n",
              "      <td>39</td>\n",
              "      <td>34</td>\n",
              "    </tr>\n",
              "  </tbody>\n",
              "</table>\n",
              "</div>\n",
              "      <button class=\"colab-df-convert\" onclick=\"convertToInteractive('df-393ee23d-31b7-444e-ae37-a8858e6af543')\"\n",
              "              title=\"Convert this dataframe to an interactive table.\"\n",
              "              style=\"display:none;\">\n",
              "        \n",
              "  <svg xmlns=\"http://www.w3.org/2000/svg\" height=\"24px\"viewBox=\"0 0 24 24\"\n",
              "       width=\"24px\">\n",
              "    <path d=\"M0 0h24v24H0V0z\" fill=\"none\"/>\n",
              "    <path d=\"M18.56 5.44l.94 2.06.94-2.06 2.06-.94-2.06-.94-.94-2.06-.94 2.06-2.06.94zm-11 1L8.5 8.5l.94-2.06 2.06-.94-2.06-.94L8.5 2.5l-.94 2.06-2.06.94zm10 10l.94 2.06.94-2.06 2.06-.94-2.06-.94-.94-2.06-.94 2.06-2.06.94z\"/><path d=\"M17.41 7.96l-1.37-1.37c-.4-.4-.92-.59-1.43-.59-.52 0-1.04.2-1.43.59L10.3 9.45l-7.72 7.72c-.78.78-.78 2.05 0 2.83L4 21.41c.39.39.9.59 1.41.59.51 0 1.02-.2 1.41-.59l7.78-7.78 2.81-2.81c.8-.78.8-2.07 0-2.86zM5.41 20L4 18.59l7.72-7.72 1.47 1.35L5.41 20z\"/>\n",
              "  </svg>\n",
              "      </button>\n",
              "      \n",
              "  <style>\n",
              "    .colab-df-container {\n",
              "      display:flex;\n",
              "      flex-wrap:wrap;\n",
              "      gap: 12px;\n",
              "    }\n",
              "\n",
              "    .colab-df-convert {\n",
              "      background-color: #E8F0FE;\n",
              "      border: none;\n",
              "      border-radius: 50%;\n",
              "      cursor: pointer;\n",
              "      display: none;\n",
              "      fill: #1967D2;\n",
              "      height: 32px;\n",
              "      padding: 0 0 0 0;\n",
              "      width: 32px;\n",
              "    }\n",
              "\n",
              "    .colab-df-convert:hover {\n",
              "      background-color: #E2EBFA;\n",
              "      box-shadow: 0px 1px 2px rgba(60, 64, 67, 0.3), 0px 1px 3px 1px rgba(60, 64, 67, 0.15);\n",
              "      fill: #174EA6;\n",
              "    }\n",
              "\n",
              "    [theme=dark] .colab-df-convert {\n",
              "      background-color: #3B4455;\n",
              "      fill: #D2E3FC;\n",
              "    }\n",
              "\n",
              "    [theme=dark] .colab-df-convert:hover {\n",
              "      background-color: #434B5C;\n",
              "      box-shadow: 0px 1px 3px 1px rgba(0, 0, 0, 0.15);\n",
              "      filter: drop-shadow(0px 1px 2px rgba(0, 0, 0, 0.3));\n",
              "      fill: #FFFFFF;\n",
              "    }\n",
              "  </style>\n",
              "\n",
              "      <script>\n",
              "        const buttonEl =\n",
              "          document.querySelector('#df-393ee23d-31b7-444e-ae37-a8858e6af543 button.colab-df-convert');\n",
              "        buttonEl.style.display =\n",
              "          google.colab.kernel.accessAllowed ? 'block' : 'none';\n",
              "\n",
              "        async function convertToInteractive(key) {\n",
              "          const element = document.querySelector('#df-393ee23d-31b7-444e-ae37-a8858e6af543');\n",
              "          const dataTable =\n",
              "            await google.colab.kernel.invokeFunction('convertToInteractive',\n",
              "                                                     [key], {});\n",
              "          if (!dataTable) return;\n",
              "\n",
              "          const docLinkHtml = 'Like what you see? Visit the ' +\n",
              "            '<a target=\"_blank\" href=https://colab.research.google.com/notebooks/data_table.ipynb>data table notebook</a>'\n",
              "            + ' to learn more about interactive tables.';\n",
              "          element.innerHTML = '';\n",
              "          dataTable['output_type'] = 'display_data';\n",
              "          await google.colab.output.renderOutput(dataTable, element);\n",
              "          const docLink = document.createElement('div');\n",
              "          docLink.innerHTML = docLinkHtml;\n",
              "          element.appendChild(docLink);\n",
              "        }\n",
              "      </script>\n",
              "    </div>\n",
              "  </div>\n",
              "  "
            ]
          },
          "metadata": {},
          "execution_count": 11
        }
      ]
    },
    {
      "cell_type": "code",
      "source": [
        "oddsratio, pvalue = stats.fisher_exact(observations)\n",
        "print('oddsratio=%.3f, pvalue=%.3f' % (oddsratio, pvalue))\n",
        "if pvalue > 0.05:\n",
        "    print('Маг не умеет предсказывать погоду')\n",
        "else:\n",
        "    print('Да ладно вам, просто выборка маловата')"
      ],
      "metadata": {
        "colab": {
          "base_uri": "https://localhost:8080/"
        },
        "id": "hi4kw8QMLl8F",
        "outputId": "c5659986-2243-4c0f-feaa-fb6f91752fcd"
      },
      "execution_count": null,
      "outputs": [
        {
          "output_type": "stream",
          "name": "stdout",
          "text": [
            "oddsratio=0.581, pvalue=0.354\n",
            "Маг не умеет предсказывать погоду\n"
          ]
        }
      ]
    },
    {
      "cell_type": "markdown",
      "source": [
        "# Задание № 5\n",
        "Используя функцию mean_confidence_interval(data, confidence), постройте доверительный интервал с уровнем доверия  β=90%  для выборки:"
      ],
      "metadata": {
        "id": "XthtWi31MTrS"
      }
    },
    {
      "cell_type": "code",
      "source": [
        "data = [4,5,8,9,6,7,5,6,7,8,5,6,7,0,9,8,4,6,\n",
        "        7,9,8,6,5,7,8,9,6,7,5,8,6,7,9,5,10]"
      ],
      "metadata": {
        "id": "237rUHvxMVRY"
      },
      "execution_count": null,
      "outputs": []
    },
    {
      "cell_type": "code",
      "source": [
        "def mean_confidence_interval(data, confidence=0.95): #Сложный пример реализации. Проще смотри в лекци. \n",
        "    n = len(data)\n",
        "    m, se = np.mean(data), stats.sem(data)\n",
        "    h = se * stats.t.ppf((1 + confidence)/2, n)  #  функция ppf из scipy возвращает нам перцентиль\n",
        "    return m-h, m, m+h "
      ],
      "metadata": {
        "id": "0QvSpY58MX_t"
      },
      "execution_count": null,
      "outputs": []
    },
    {
      "cell_type": "code",
      "source": [
        "mean_confidence_interval(data, confidence=0.90)"
      ],
      "metadata": {
        "colab": {
          "base_uri": "https://localhost:8080/"
        },
        "id": "FZdBryFuMbo_",
        "outputId": "b73b06e6-289e-4468-f967-46d6aad36685"
      },
      "execution_count": null,
      "outputs": [
        {
          "output_type": "execute_result",
          "data": {
            "text/plain": [
              "(6.074074746111319, 6.628571428571429, 7.183068111031539)"
            ]
          },
          "metadata": {},
          "execution_count": 15
        }
      ]
    },
    {
      "cell_type": "markdown",
      "source": [
        "# Задание № 6\n",
        "Принадлежат ли выборки A и B одному множеству?\n",
        "\n",
        "* Оцените это с помощью известных вам тестов для проверок статистических гипотез;\n",
        "* Покажите различия визуально."
      ],
      "metadata": {
        "id": "shN1c2XaMh4k"
      }
    },
    {
      "cell_type": "code",
      "source": [
        "A = [4,5,8,9,6,7,5,6,7,6,8,5,6,7,8,4,\n",
        "    6,7,9,8,6,5,7,8,6,7,5,6,8,6,7,5,\n",
        "    4,5,8,9,6,7,5,6,7,6,8,5,6,7,8,4,\n",
        "    6,7,9,8,6,5,7,8,6,7,5,6,8,6,7,5,\n",
        "    4,5,8,9,6,7,5,6,7,6,8,5,6,7,8,4,\n",
        "    6,7,9,8,6,5,7,8,6,7,5,6,8,6,7,5,\n",
        "    4,5,8,9,6,7,5,6,7,6,8,5,6,7,8,4]\n",
        "\n",
        "B = [5,6,7,8,4,6,7,2,6,5,7,5,3,5,3,\n",
        "    5,3,5,5,8,7,6,4,5,3,5,4,6,4,5,3,\n",
        "    2,6,4,3,5,4,3,4,5,4,3,4,5,4,3,4,\n",
        "    2,6,4,3,5,4,3,4,5,4,3,4,5,4,3,4,\n",
        "    3,4,4,1,2,4,3,2,4,3,2,1,5,3,4,6,\n",
        "    3,2,4,5,6,4,3,3,5,3,4,4,4,2,5,3]"
      ],
      "metadata": {
        "id": "8YgFfszeMleh"
      },
      "execution_count": null,
      "outputs": []
    },
    {
      "cell_type": "code",
      "source": [
        "sns.histplot(A, color='red',bins=10);\n",
        "sns.histplot(B,bins=10);"
      ],
      "metadata": {
        "colab": {
          "base_uri": "https://localhost:8080/",
          "height": 265
        },
        "id": "jQpgrN2CMn17",
        "outputId": "48962347-83a9-4596-fc37-8fe72fde189d"
      },
      "execution_count": null,
      "outputs": [
        {
          "output_type": "display_data",
          "data": {
            "text/plain": [
              "<Figure size 432x288 with 1 Axes>"
            ],
            "image/png": "[encoded data removed]"
          },
          "metadata": {
            "needs_background": "light"
          }
        }
      ]
    },
    {
      "cell_type": "code",
      "source": [
        "t, p = stats.ttest_ind(A, B)\n",
        "print(t,p)"
      ],
      "metadata": {
        "colab": {
          "base_uri": "https://localhost:8080/"
        },
        "id": "5zkbmVnuM4Sp",
        "outputId": "b99316d8-fdc9-48e4-fd41-867ef5b36eb3"
      },
      "execution_count": null,
      "outputs": [
        {
          "output_type": "stream",
          "name": "stdout",
          "text": [
            "11.865233896372924 4.623319592204015e-25\n"
          ]
        }
      ]
    },
    {
      "cell_type": "code",
      "source": [
        "# p очень мало - не принадлежат одному множеству"
      ],
      "metadata": {
        "id": "RxLqTtBhM9mo"
      },
      "execution_count": null,
      "outputs": []
    },
    {
      "cell_type": "markdown",
      "source": [
        "# Задание № 7 (задание без подвоха)\n",
        "На примере датасета про жилье в New York City, мы сталкивались с примером, когда переменная имеет не совсем нормальное распределение.\n",
        "\n",
        "* Предположим, Вы сформировали две гипотезы:\n",
        " * нулевая гипотеза - распределение нормальное;\n",
        " * альтернативная гипотеза - распределение ненормальное.\n",
        "* допустим, вы применили какой-то тест (сейчас неважно какой), который показал уровень значимости p-value = 0.03. Каковы будут ваши выводы? Будем считать что у нас нормальное распределение или все-таки нет?)"
      ],
      "metadata": {
        "id": "kevt1W-GNDnj"
      }
    },
    {
      "cell_type": "code",
      "source": [
        "# На уровне значимости 0.05 можем считать гипотезу о нормальном распределении правильной."
      ],
      "metadata": {
        "id": "zoorYUlTNPHH"
      },
      "execution_count": null,
      "outputs": []
    },
    {
      "cell_type": "markdown",
      "source": [
        "# Задание № 8\n",
        "Первая выборка — это пациенты, которых лечили препаратом А. Вторая выборка — пациенты, которых лечили препаратом B.\n",
        "\n",
        "Значения в выборках — это некоторая характеристика эффективности лечения (уровень метаболита в крови, температура через три дня после начала лечения, срок выздоровления, число койко-дней, и т.д.)\n",
        "\n",
        "* Требуется выяснить, имеется ли значимое различие эффективности препаратов А и B, или различия являются чисто случайными и объясняются «естественной» дисперсией выбранной характеристики? (уровень значимости принять за 0.05 (5%))\n",
        "\n",
        "* При каком минимальном p-value различия были бы уже значимы?\n",
        "\n",
        "* Если выборки незначительно отличаются, то продемонстрируйте это визуально"
      ],
      "metadata": {
        "id": "qKJWE5m1NUJK"
      }
    },
    {
      "cell_type": "code",
      "source": [
        "np.random.seed(11)\n",
        "A = stats.norm.rvs(scale=15,loc=169,size=300)\n",
        "B = stats.norm.rvs(scale=14,loc=171.4,size=300)\n",
        "\n",
        "### Ваш код:\n",
        "# Подсказка, обратите внимание на Two-sample T-test"
      ],
      "metadata": {
        "id": "mZq_EXBTNei3"
      },
      "execution_count": null,
      "outputs": []
    },
    {
      "cell_type": "code",
      "source": [
        "sns.histplot(A, color='red', bins=30);\n",
        "sns.histplot(B, bins=30);"
      ],
      "metadata": {
        "colab": {
          "base_uri": "https://localhost:8080/",
          "height": 265
        },
        "id": "vqQ9iWJJNhv6",
        "outputId": "d224e0da-00fd-4142-82e3-511459d65e1e"
      },
      "execution_count": null,
      "outputs": [
        {
          "output_type": "display_data",
          "data": {
            "text/plain": [
              "<Figure size 432x288 with 1 Axes>"
            ],
            "image/png": "[encoded data removed]"
          },
          "metadata": {
            "needs_background": "light"
          }
        }
      ]
    },
    {
      "cell_type": "code",
      "source": [
        "t, p = stats.ttest_ind(A, B)\n",
        "\n",
        "print(t, p)"
      ],
      "metadata": {
        "colab": {
          "base_uri": "https://localhost:8080/"
        },
        "id": "LIgeCWoFNkOE",
        "outputId": "d2e2521c-9285-4113-e4a4-0bd463245367"
      },
      "execution_count": null,
      "outputs": [
        {
          "output_type": "stream",
          "name": "stdout",
          "text": [
            "-1.95300880485141 0.051284593140469285\n"
          ]
        }
      ]
    },
    {
      "cell_type": "code",
      "source": [
        "# p больше уровня значимости (0.05), значит различия незначительные при p = 0.049 различия были бы уже значимы"
      ],
      "metadata": {
        "id": "WPVNQfXQNmQ1"
      },
      "execution_count": null,
      "outputs": []
    }
  ]
}