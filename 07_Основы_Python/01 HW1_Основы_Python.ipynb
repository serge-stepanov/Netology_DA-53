{
  "nbformat": 4,
  "nbformat_minor": 0,
  "metadata": {
    "colab": {
      "provenance": []
    },
    "kernelspec": {
      "name": "python3",
      "display_name": "Python 3"
    },
    "language_info": {
      "name": "python"
    }
  },
  "cells": [
    {
      "cell_type": "markdown",
      "source": [
        "# **Домашнее задание к лекции \"Основы Python\"**"
      ],
      "metadata": {
        "id": "bTC4tjaGHOCm"
      }
    },
    {
      "cell_type": "markdown",
      "source": [
        "# Задание 1\n",
        "Даны 2 переменных, в которых хранятся строки произвольной длины: phrase_1 и phrase_2.\n",
        "Напишите код, который проверяет какая из этих строк длиннее.\n",
        "\n",
        "Примеры работы программы:\n",
        "\n",
        "phrase_1 = 'Насколько проще было бы писать программы, если бы не заказчики'\n",
        "\n",
        "phrase_2 = '640Кб должно хватить для любых задач. Билл Гейтс (по легенде)'\n",
        "\n",
        "Результат:\n",
        "\n",
        "Фраза 1 длиннее фразы 2\n",
        "\n",
        "phrase_1 = '640Кб должно хватить для любых задач. Билл Гейтс (по легенде)'\n",
        "\n",
        "phrase_2 = 'Насколько проще было бы писать программы, если бы не заказчики'\n",
        "\n",
        "Результат:\n",
        "\n",
        "Фраза 2 длиннее фразы 1\n",
        "\n",
        "phrase_1 = 'Насколько проще было бы писать программы, если бы не заказчики'\n",
        "\n",
        "phrase_2 = 'Насколько проще было бы писать программы, если бы не заказчики'\n",
        "\n",
        "Результат:\n",
        "\n",
        "Фразы равной длины"
      ],
      "metadata": {
        "id": "8CFoUlUtHh9F"
      }
    },
    {
      "cell_type": "code",
      "source": [
        "phrase_1 = input()\n",
        "phrase_2 = input()\n",
        "\n",
        "if len(phrase_1) > len(phrase_2):\n",
        "  print('Фраза 1 длиннее фразы 2')\n",
        "elif len(phrase_1) < len(phrase_2):\n",
        "  print('Фраза 2 длиннее фразы 1')\n",
        "else:\n",
        "  print('Фразы равной длины')"
      ],
      "metadata": {
        "colab": {
          "base_uri": "https://localhost:8080/"
        },
        "id": "E5T09Q7fHcvy",
        "outputId": "cc767785-f836-455c-e384-ce376f11c9ce"
      },
      "execution_count": null,
      "outputs": [
        {
          "output_type": "stream",
          "name": "stdout",
          "text": [
            "Насколько проще было бы писать программы, если бы не заказчики\n",
            "Насколько проще было бы писать программы, если бы не заказчики\n",
            "Фразы равной длины\n"
          ]
        }
      ]
    },
    {
      "cell_type": "markdown",
      "source": [
        "# Задание 2\n",
        "Дана переменная, в которой хранится число (год). Необходимо написать программу, которая выведет, является ли данный год високосным или обычным.\n",
        "\n",
        "Пример работы программы:\n",
        "\n",
        "year = 2020\n",
        "\n",
        "Результат:\n",
        "\n",
        "Високосный год\n",
        "\n",
        "year = 2019\n",
        "\n",
        "Результат:\n",
        "\n",
        "Обычный год"
      ],
      "metadata": {
        "id": "cC1PVezfJyRh"
      }
    },
    {
      "cell_type": "code",
      "source": [
        "year = int(input())\n",
        "\n",
        "if year % 4 == 0 and year % 100 != 0 or year % 400 == 0:\n",
        "    print('Високосный год')\n",
        "else:\n",
        "    print('Обычный год')"
      ],
      "metadata": {
        "colab": {
          "base_uri": "https://localhost:8080/"
        },
        "id": "aGMwl7siIZA8",
        "outputId": "56f85731-c367-4b99-8721-a77bc14c635c"
      },
      "execution_count": null,
      "outputs": [
        {
          "output_type": "stream",
          "name": "stdout",
          "text": [
            "2024\n",
            "Високосный год\n"
          ]
        }
      ]
    },
    {
      "cell_type": "markdown",
      "source": [
        "# Задание 3\n",
        "Необходимо написать программу, которая будет запрашивать у пользователя месяц и дату рождения и выводить соответствующий знак зодиака.\n",
        "\n",
        "Пример работы программы:\n",
        "\n",
        "Введите день:\n",
        "\n",
        "30\n",
        "\n",
        "Введите месяц:\n",
        "\n",
        "Август\n",
        "\n",
        "Результат:\n",
        "\n",
        "Ваш знак зодиака: Дева\n",
        "\n",
        "\n",
        "Введите день:\n",
        "\n",
        "29\n",
        "\n",
        "Введите месяц:\n",
        "\n",
        "Октябрь\n",
        "\n",
        "Результат:\n",
        "\n",
        "Ваш знак зодиака: Скорпион"
      ],
      "metadata": {
        "id": "scnj-S6mK4Pc"
      }
    },
    {
      "cell_type": "code",
      "source": [
        "date=int(input(\"Введите день: \"))\n",
        "\n",
        "month=input(\"Введите месяц: \")\n",
        "\n",
        "if (date>=21 and date<=31 and month.lower()=='март') or (month.lower()=='апрель' and date>=1 and date<=19):\n",
        "\n",
        "   print(\"Ваш знак зодиака: Овен\")\n",
        "\n",
        "elif (date>=20 and date<=30 and month.lower()=='апрель') or (month.lower()=='май' and date>=1 and date<=20):\n",
        "\n",
        "   print(\"Ваш знак зодиака: Телец\")\n",
        "\n",
        "elif (date>=21 and date<=31 and month.lower()=='май') or (month.lower()=='июнь' and date>=1 and date<=21):\n",
        "\n",
        "   print(\"Ваш знак зодиака: Близнецы\")\n",
        "\n",
        "elif (date>=22 and date<=30 and month.lower()=='июнь') or (month.lower()=='июль' and date>=1 and date<=22):\n",
        "\n",
        "   print(\"Ваш знак зодиака: Рак\")\n",
        "\n",
        "elif (date>=23 and date<=31 and month.lower()=='июль') or (month.lower()=='август' and date>=1 and date<=22):\n",
        "\n",
        "   print(\"Ваш знак зодиака: Лев\")\n",
        "\n",
        "elif (date>=23 and date<=31 and month.lower()=='август') or (month.lower()=='сентябрь' and date>=1 and date<=22):\n",
        "\n",
        "   print(\"Ваш знак зодиака: Дева\")\n",
        "\n",
        "elif (date>=23 and date<=30 and month.lower()=='сентябрь') or (month.lower()=='октябрь' and date>=1 and date<=23):\n",
        "\n",
        "   print(\"Ваш знак зодиака: Весы\")\n",
        "\n",
        "elif (date>=24 and date<=31 and month.lower()=='октябрь') or (month.lower()=='ноябрь' and date>=1 and date<=22):\n",
        "\n",
        "   print(\"Ваш знак зодиака: Скорпион\")\n",
        "\n",
        "elif (date>=23 and date<=30 and month.lower()=='ноябрь') or (month.lower()=='декабрь' and date>=1 and date<=21):\n",
        "\n",
        "   print(\"Ваш знак зодиака: Стрелец\")\n",
        "\n",
        "elif (date>=22 and date<=31 and month.lower()=='декабрь') or (month.lower()=='январь' and date>=1 and date<=20):\n",
        "\n",
        "   print(\"Ваш знак зодиака: Козерог\")\n",
        "\n",
        "elif (date>=21 and date<=31 and month.lower()=='январь') or (month.lower()=='февраль' and date>=1 and date<=18):\n",
        "\n",
        "   print(\"Ваш знак зодиака: Водолей\")\n",
        "\n",
        "elif (date>=19 and date<=29 and month.lower()=='февраль') or (month.lower()=='март' and date>=1 and date<=20):\n",
        "\n",
        "   print(\"Ваш знак зодиака: Рыбы\")\n",
        "else:\n",
        "  print(\"Вы ввели некорректный день или месяц\")"
      ],
      "metadata": {
        "colab": {
          "base_uri": "https://localhost:8080/"
        },
        "id": "oVqlHO72LUFE",
        "outputId": "ebddee54-f9f4-4125-e0fa-0747eb00ffcc"
      },
      "execution_count": null,
      "outputs": [
        {
          "output_type": "stream",
          "name": "stdout",
          "text": [
            "Введите день: 4\n",
            "Введите месяц: февраль\n",
            "Ваш знак зодиака: Водолей\n"
          ]
        }
      ]
    },
    {
      "cell_type": "markdown",
      "source": [
        "# Задание 4\n",
        "Вам нужно написать программу для подбора упаковок по размерам товара. Размеры (ширина, длина, высота) хранятся в переменных (в сантиметрах):\n",
        "\n",
        "Используйте следующие правила:\n",
        "\n",
        "если каждое из трех измерений менее или равно 15 сантиметрам, то выведите на экран \"Коробка №1\";\n",
        "\n",
        "если хотя бы одно из измерений больше 15 сантиметров, но менее 50 сантиметров, то выводите \"Коробка №2\";\n",
        "\n",
        "если длина товара больше 2 метров, то выводите \"Упаковка для лыж\";\n",
        "\n",
        "во всех остальных случаях выводите \"Стандартная коробка №3\".\n",
        "\n",
        "Пример работы программы:\n",
        "\n",
        "width = 15\n",
        "\n",
        "length = 50\n",
        "\n",
        "height = 15\n",
        "\n",
        "Результат:\n",
        "\n",
        "Стандартная коробка №3\n",
        "\n",
        "width = 45\n",
        "\n",
        "length = 205\n",
        "\n",
        "height = 45\n",
        "\n",
        "Результат:\n",
        "\n",
        "Ищите упаковку для лыж"
      ],
      "metadata": {
        "id": "_EE-Sopx01pj"
      }
    },
    {
      "cell_type": "code",
      "source": [
        "width = int(input())\n",
        "length = int(input())\n",
        "height = int(input())\n",
        "\n",
        "if max(width, length, height) <= 15:\n",
        "  print('Коробка №1')\n",
        "elif max(width, length, height) <50:\n",
        "  print('Коробка №2')\n",
        "elif max(width, length, height) >200:\n",
        "  print('Упаковка для лыж')\n",
        "else:\n",
        "  print('Стандартная коробка №3')"
      ],
      "metadata": {
        "colab": {
          "base_uri": "https://localhost:8080/"
        },
        "id": "D8or0bVqZCI7",
        "outputId": "a4d4caf0-75e8-46c4-9c4a-0d73cb7788d8"
      },
      "execution_count": null,
      "outputs": [
        {
          "output_type": "stream",
          "name": "stdout",
          "text": [
            "15\n",
            "201\n",
            "5\n",
            "Упаковка для лыж\n"
          ]
        }
      ]
    },
    {
      "cell_type": "markdown",
      "source": [
        "# Задание 5 (необязательное)\n",
        "Дана переменная, в которой хранится шестизначное число (номер проездного билета). \n",
        "Напишите программу, которая будет определять, является ли данный билет \"счастливым\". \n",
        "Билет считается счастливым, если сумма первых трех цифр совпадает с суммой последних трех цифр номера.\n",
        "\n",
        "Примеры работы программы:\n",
        "\n",
        "number = 123456\n",
        "\n",
        "Результат:\n",
        "\n",
        "Несчастливый билет\n",
        "\n",
        "number = 123321\n",
        "\n",
        "Результат:\n",
        "\n",
        "Счастливый билет"
      ],
      "metadata": {
        "id": "4Y21I-ON3GAO"
      }
    },
    {
      "cell_type": "code",
      "source": [
        "number = input()\n",
        "num_res_1 = sum(map(int, number[3:]))\n",
        "num_res_2 = sum(map(int, number[:3]))\n",
        "\n",
        "if num_res_1 == num_res_2:\n",
        "  print(\"Счастливый билет\")\n",
        "else:\n",
        "  print(\"Несчастливый билет\")"
      ],
      "metadata": {
        "colab": {
          "base_uri": "https://localhost:8080/"
        },
        "id": "Ld4xNp1M3Tri",
        "outputId": "e2c6d390-2a2b-4ba6-977f-cd8ad7a45fa5"
      },
      "execution_count": null,
      "outputs": [
        {
          "output_type": "stream",
          "name": "stdout",
          "text": [
            "123654\n",
            "Несчастливый билет\n"
          ]
        }
      ]
    },
    {
      "cell_type": "markdown",
      "source": [
        "# Задание 6 (необязательное)\n",
        "Напишите программу, которая сможет вычислять площади трех фигур (круг, треугольник и прямоугольник). Тип фигуры запрашиваем через пользовательский ввод, после чего делаем запрос характеристик фигуры:\n",
        "\n",
        "если пользователь выбрал круг, запрашиваем его радиус,\n",
        "если треугольник – длины трех его сторон;\n",
        "если прямоугольник – длины двух его сторон.\n",
        "\n",
        "Пример работы программы:\n",
        "\n",
        "Введите тип фигуры:\n",
        "\n",
        "Круг\n",
        "\n",
        "Введите радиус круга:\n",
        "\n",
        "10\n",
        "\n",
        "Результат:\n",
        "\n",
        "Площадь круга: 314.16\n",
        "\n",
        "\n",
        "Введите тип фигуры:\n",
        "\n",
        "Треугольник\n",
        "\n",
        "Введите длину стороны A:\n",
        "\n",
        "2\n",
        "\n",
        "Введите длину стороны B:\n",
        "\n",
        "2\n",
        "\n",
        "Введите длину стороны C:\n",
        "\n",
        "3\n",
        "\n",
        "Результат:\n",
        "\n",
        "Площадь треугольника: 1.98"
      ],
      "metadata": {
        "id": "QIOWdywk8X6e"
      }
    },
    {
      "cell_type": "code",
      "source": [
        "tipe = input('Введите тип фигуры: ')\n",
        "\n",
        "if tipe.lower() == 'круг':\n",
        "  radius = round(float(input('Введите радиус круга: '))**2*3.1416, 2)\n",
        "  print(f'Площадь круга: {radius}')\n",
        "elif tipe.lower() == 'треугольник':\n",
        "  length_a,length_b,length_c = int(input('Введите длину стороны A: ')), int(input('Введите длину стороны B: ')), int(input('Введите длину стороны C: '))\n",
        "  sq_triangle = round(float(((length_a+length_b+length_c)/2)*(((length_a+length_b+length_c)/2)-length_a)*(((length_a+length_b+length_c)/2)-length_b)*(((length_a+length_b+length_c)/2)-length_c))**(0.5), 2)\n",
        "  print(f'Площадь треугольника: {sq_triangle}')\n",
        "elif tipe.lower() == 'прямоугольник':\n",
        "  length_a,length_b = int(input('Введите длину стороны A: ')), int(input('Введите длину стороны B: '))\n",
        "  sq_rectangle = round(float(length_a*length_b),2)\n",
        "  print(f'Площадь прямоугольника: {sq_rectangle}')\n",
        "else:\n",
        "  print('Вы указали неправильный тип фигуры')\n",
        "\n",
        "\n"
      ],
      "metadata": {
        "colab": {
          "base_uri": "https://localhost:8080/"
        },
        "id": "_aKyEk2j5SSh",
        "outputId": "f03bd177-3368-4392-e6bd-cfdc694f45d2"
      },
      "execution_count": null,
      "outputs": [
        {
          "output_type": "stream",
          "name": "stdout",
          "text": [
            "Введите тип фигуры: квадрат\n",
            "Вы указали неправильный тип фигуры\n"
          ]
        }
      ]
    }
  ]
}