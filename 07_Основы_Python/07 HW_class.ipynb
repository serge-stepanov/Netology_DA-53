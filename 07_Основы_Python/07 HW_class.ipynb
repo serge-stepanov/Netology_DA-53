{
  "nbformat": 4,
  "nbformat_minor": 0,
  "metadata": {
    "colab": {
      "provenance": []
    },
    "kernelspec": {
      "name": "python3",
      "display_name": "Python 3"
    },
    "language_info": {
      "name": "python"
    }
  },
  "cells": [
    {
      "cell_type": "markdown",
      "source": [
        "# **Домашнее задание**\n",
        "\n",
        "# Задание 1\n",
        "Напишите функцию, которая возвращает название валюты (поле ‘Name’) с максимальным значением курса с помощью сервиса www.cbr-xml-daily.ru...ly_json.js\n",
        "\n",
        "# Задание 2\n",
        "Добавьте в класс Rate параметр diff (со значениями True или False), который в случае значения True в методах курсов валют (eur, usd итд) будет возвращать не курс валюты, а изменение по сравнению в прошлым значением. Считайте, self.diff будет принимать значение True только при возврате значения курса. При отображении всей информации о валюте он не используется.\n",
        "\n",
        "# Задание 3\n",
        "Напишите класс Designer, который учитывает количество международных премий. Подсказки в коде занятия в разделе “Домашнее задание задача 3”.\n",
        "\n",
        "Комментарий по классу Designer такой:\n",
        "Напишите класс Designer, который учитывает количество международных премий для дизайнеров (из презентации: “Повышение на 1 грейд за каждые 7 баллов. Получение международной премии – это +2 балла”). Считайте, что при выходе на работу сотрудник уже имеет две премии и их количество не меняется со стажем (конечно если хотите это можно вручную менять).\n",
        "\n",
        "Класс Designer пишется по аналогии с классом Developer из материалов занятия."
      ],
      "metadata": {
        "id": "fkbujhFSne6N"
      }
    },
    {
      "cell_type": "code",
      "source": [
        "import sys\n",
        "sys.path.append('/content/drive/MyDrive') #возникли некоторые проблемы с чтьением с локального диска, подключил гугл.диск\n"
      ],
      "metadata": {
        "id": "-ZzylOF_nlY2"
      },
      "execution_count": null,
      "outputs": []
    },
    {
      "cell_type": "code",
      "source": [
        "sys.path"
      ],
      "metadata": {
        "colab": {
          "base_uri": "https://localhost:8080/"
        },
        "id": "OrWwbCezo1J8",
        "outputId": "23548e29-1f1a-4723-ef5e-8dc1edb41bc2"
      },
      "execution_count": null,
      "outputs": [
        {
          "output_type": "execute_result",
          "data": {
            "text/plain": [
              "['/content',\n",
              " '/env/python',\n",
              " '/usr/lib/python37.zip',\n",
              " '/usr/lib/python3.7',\n",
              " '/usr/lib/python3.7/lib-dynload',\n",
              " '',\n",
              " '/usr/local/lib/python3.7/dist-packages',\n",
              " '/usr/lib/python3/dist-packages',\n",
              " '/usr/local/lib/python3.7/dist-packages/IPython/extensions',\n",
              " '/root/.ipython',\n",
              " 'C:\\\\Python\\\\libs',\n",
              " 'C:\\\\Python\\\\libs',\n",
              " 'C:\\\\Python\\\\libs',\n",
              " 'C:\\\\Python\\\\libs',\n",
              " 'C:\\\\Python\\\\libs',\n",
              " '/content/drive/MyDrive',\n",
              " '/content/drive/MyDrive/exchange.py',\n",
              " '/content/drive/MyDrive']"
            ]
          },
          "metadata": {},
          "execution_count": 17
        }
      ]
    },
    {
      "cell_type": "code",
      "source": [
        "from exchange import Rate #забираем нужный нам класс"
      ],
      "metadata": {
        "id": "N5Zp21a0rkN9"
      },
      "execution_count": null,
      "outputs": []
    },
    {
      "cell_type": "code",
      "source": [
        "class Currency(Rate):\n",
        "    def __init__(self):\n",
        "        super().__init__(format='full')\n",
        "    def currency_name(self, currency):\n",
        "        \"\"\"Получение наименования валюты\"\"\"\n",
        "        return self.make_format(currency)['Name']"
      ],
      "metadata": {
        "id": "Cz3RT-4Jr14p"
      },
      "execution_count": null,
      "outputs": []
    },
    {
      "cell_type": "code",
      "source": [
        "Currency_name = Currency()\n",
        "Currency_name.currency_name('USD')"
      ],
      "metadata": {
        "colab": {
          "base_uri": "https://localhost:8080/",
          "height": 36
        },
        "id": "gtB7hWx4r7n9",
        "outputId": "fd909a87-9365-4cad-9d06-c307dfc11e19"
      },
      "execution_count": null,
      "outputs": [
        {
          "output_type": "execute_result",
          "data": {
            "text/plain": [
              "'Доллар США'"
            ],
            "application/vnd.google.colaboratory.intrinsic+json": {
              "type": "string"
            }
          },
          "metadata": {},
          "execution_count": 22
        }
      ]
    },
    {
      "cell_type": "code",
      "source": [
        "class Currency(Rate):\n",
        "    def __init__(self):\n",
        "        super().__init__(format='full')\n",
        "    def max_value(self):\n",
        "        array = []\n",
        "        for i in self.exchange_rates().values():\n",
        "            array.append(i['Value'])\n",
        "        maximum = max(array)\n",
        "        for i in self.exchange_rates().values():\n",
        "            if i['Value'] == maximum:\n",
        "                print(i['Name'])"
      ],
      "metadata": {
        "id": "JXyyRSmcsLcx"
      },
      "execution_count": null,
      "outputs": []
    },
    {
      "cell_type": "code",
      "source": [
        "max_currency = Currency()\n",
        "max_currency.max_value()"
      ],
      "metadata": {
        "colab": {
          "base_uri": "https://localhost:8080/"
        },
        "id": "jPf68KjDsr_7",
        "outputId": "2db6c43b-30b4-44db-958e-5541c67ec4fc"
      },
      "execution_count": null,
      "outputs": [
        {
          "output_type": "stream",
          "name": "stdout",
          "text": [
            "Китайских юаней\n"
          ]
        }
      ]
    },
    {
      "cell_type": "code",
      "source": [
        "import requests\n",
        "\n",
        "class Rate:\n",
        "    def __init__(self, diff=False, format='value'):\n",
        "        self.format = format\n",
        "        self.diff = diff\n",
        "    \n",
        "    def exchange_rates(self):\n",
        "        \"\"\"\n",
        "        Возвращает ответ сервиса с информацией о валютах в виде:\n",
        "        \n",
        "        {\n",
        "            'AMD': {\n",
        "                'CharCode': 'AMD',\n",
        "                'ID': 'R01060',\n",
        "                'Name': 'Армянских драмов',\n",
        "                'Nominal': 100,\n",
        "                'NumCode': '051',\n",
        "                'Previous': 14.103,\n",
        "                'Value': 14.0879\n",
        "                },\n",
        "            ...\n",
        "        }\n",
        "        \"\"\"\n",
        "        r = requests.get('https://www.cbr-xml-daily.ru/daily_json.js')\n",
        "        return r.json()['Valute']\n",
        "    \n",
        "    def make_format(self, currency):\n",
        "        \"\"\"\n",
        "        Возвращает информацию о валюте currency в двух вариантах:\n",
        "        - полная информация о валюте при self.format = 'full':\n",
        "        Rate('full').make_format('EUR')\n",
        "        {\n",
        "            'CharCode': 'EUR',\n",
        "            'ID': 'R01239',\n",
        "            'Name': 'Евро',\n",
        "            'Nominal': 1,\n",
        "            'NumCode': '978',\n",
        "            'Previous': 79.6765,\n",
        "            'Value': 79.4966\n",
        "        }\n",
        "        \n",
        "        Rate('value').make_format('EUR')\n",
        "        79.4966\n",
        "        \n",
        "        Во втором случае, при указании diff == True \n",
        "        выводится изменение по сравнению в прошлым значением \n",
        "        \"\"\"\n",
        "        response = self.exchange_rates()\n",
        "        \n",
        "        if currency in response:\n",
        "            if self.format == 'full':\n",
        "                return response[currency]\n",
        "            \n",
        "            if self.format == 'value':\n",
        "                if self.diff:\n",
        "                    return response[currency]['Value'] - response[currency]['Previous']\n",
        "                else:    \n",
        "                    return response[currency]['Value']\n",
        "        \n",
        "        return 'Error'\n",
        "    \n",
        "    def eur(self):\n",
        "        \"\"\"Возвращает курс евро на сегодня в формате self.format\"\"\"\n",
        "        return self.make_format('EUR')\n",
        "    \n",
        "    def usd(self):\n",
        "        \"\"\"Возвращает курс доллара на сегодня в формате self.format\"\"\"\n",
        "        return self.make_format('USD')\n",
        "\n",
        "    def AZN(self):\n",
        "        \"\"\"Возвращает курс азербайджанского маната на сегодня в формате self.format\"\"\"\n",
        "        return self.make_format('AZN')"
      ],
      "metadata": {
        "id": "tCGPj_OHteIN"
      },
      "execution_count": null,
      "outputs": []
    },
    {
      "cell_type": "code",
      "source": [
        "curr = Rate(diff=True)"
      ],
      "metadata": {
        "id": "NyL1et8btseV"
      },
      "execution_count": null,
      "outputs": []
    },
    {
      "cell_type": "code",
      "source": [
        "curr.usd()"
      ],
      "metadata": {
        "colab": {
          "base_uri": "https://localhost:8080/"
        },
        "id": "icyHXv7tuDSD",
        "outputId": "c0e47349-1e13-429c-a493-489b1ecf385a"
      },
      "execution_count": null,
      "outputs": [
        {
          "output_type": "execute_result",
          "data": {
            "text/plain": [
              "0.47800000000000153"
            ]
          },
          "metadata": {},
          "execution_count": 31
        }
      ]
    },
    {
      "cell_type": "code",
      "source": [
        "curr_full = Rate(format='full',diff=True)"
      ],
      "metadata": {
        "id": "iXG2cUBcuIEu"
      },
      "execution_count": null,
      "outputs": []
    },
    {
      "cell_type": "code",
      "source": [
        "curr_full.usd()"
      ],
      "metadata": {
        "colab": {
          "base_uri": "https://localhost:8080/"
        },
        "id": "9VNY84KKuW9_",
        "outputId": "a4d7f303-cbb7-4462-958f-d9ad113c6649"
      },
      "execution_count": null,
      "outputs": [
        {
          "output_type": "execute_result",
          "data": {
            "text/plain": [
              "{'ID': 'R01235',\n",
              " 'NumCode': '840',\n",
              " 'CharCode': 'USD',\n",
              " 'Nominal': 1,\n",
              " 'Name': 'Доллар США',\n",
              " 'Value': 62.0955,\n",
              " 'Previous': 61.6175}"
            ]
          },
          "metadata": {},
          "execution_count": 34
        }
      ]
    },
    {
      "cell_type": "code",
      "source": [
        "class Employee:\n",
        "    def __init__(self, name, seniority):\n",
        "        self.name = name\n",
        "        self.seniority = seniority\n",
        "        \n",
        "        self.grade = 1\n",
        "    \n",
        "    def grade_up(self):\n",
        "        \"\"\"Повышает уровень сотрудника\"\"\"\n",
        "        self.grade += 1\n",
        "    \n",
        "    def publish_grade(self):\n",
        "        \"\"\"Публикация результатов аккредитации сотрудников\"\"\"\n",
        "        print(self.name, self.grade)\n",
        "    \n",
        "    def check_if_it_is_time_for_upgrade(self):\n",
        "        pass"
      ],
      "metadata": {
        "id": "8qJrvfiaukf1"
      },
      "execution_count": null,
      "outputs": []
    },
    {
      "cell_type": "code",
      "source": [
        "class Designer(Employee):\n",
        "    def __init__(self, name, seniority):\n",
        "        super().__init__(name, seniority)\n",
        "    def check_if_it_is_time_for_upgrade(self):\n",
        "        # для каждой аккредитации увеличиваем счетчик на 1\n",
        "        # пока считаем, что все разработчики проходят аккредитацию\n",
        "        self.seniority += 1\n",
        "        \n",
        "        inetnational_award = 2\n",
        "                \n",
        "        # условие повышения сотрудника из презентации\n",
        "        # повышение на 1 грейд за каждые 7 баллов. Получение международной премии – это +2 балла\n",
        "        if (self.seniority + 2 * inetnational_award) % 7 == 0:\n",
        "            self.grade_up()\n",
        "        \n",
        "        # публикация результатов\n",
        "        return self.publish_grade()    "
      ],
      "metadata": {
        "id": "SnUtFB2-ul9p"
      },
      "execution_count": null,
      "outputs": []
    },
    {
      "cell_type": "code",
      "source": [
        "Ivan = Designer('Иван', 0)"
      ],
      "metadata": {
        "id": "SLB-xUsFvTLb"
      },
      "execution_count": null,
      "outputs": []
    },
    {
      "cell_type": "code",
      "source": [
        "for i in range(10):\n",
        "    Ivan.check_if_it_is_time_for_upgrade()"
      ],
      "metadata": {
        "id": "s0GgjlVhvei4",
        "outputId": "943d4328-5b10-41cb-a7ae-d97bd503272d",
        "colab": {
          "base_uri": "https://localhost:8080/"
        }
      },
      "execution_count": null,
      "outputs": [
        {
          "output_type": "stream",
          "name": "stdout",
          "text": [
            "Иван 1\n",
            "Иван 1\n",
            "Иван 2\n",
            "Иван 2\n",
            "Иван 2\n",
            "Иван 2\n",
            "Иван 2\n",
            "Иван 2\n",
            "Иван 2\n",
            "Иван 3\n"
          ]
        }
      ]
    }
  ]
}