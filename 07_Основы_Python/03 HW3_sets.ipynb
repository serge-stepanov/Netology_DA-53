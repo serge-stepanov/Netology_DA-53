{
  "nbformat": 4,
  "nbformat_minor": 0,
  "metadata": {
    "colab": {
      "provenance": []
    },
    "kernelspec": {
      "name": "python3",
      "display_name": "Python 3"
    },
    "language_info": {
      "name": "python"
    }
  },
  "cells": [
    {
      "cell_type": "markdown",
      "source": [
        "# **Домашнее задание к лекции «Управляющие конструкции и коллекции» (часть 2)**\n"
      ],
      "metadata": {
        "id": "YUXlVDkjyvLB"
      }
    },
    {
      "cell_type": "markdown",
      "source": [
        "# Задание 1\n",
        "Дана переменная, в которой хранится словарь, содержащий гео-метки для каждого пользователя (пример структуры данных приведен ниже). Вам необходимо написать программу, которая выведет на экран множество уникальных гео-меток всех пользователей.\n",
        "\n",
        "Пример работы программы:\n",
        "\n",
        "ids = {‘user1’: [213, 213, 213, 15, 213],\n",
        "\n",
        "‘user2’: [54, 54, 119, 119, 119],\n",
        "\n",
        "‘user3’: [213, 98, 98, 35]}\n",
        "\n",
        "Результат: {98, 35, 15, 213, 54, 119}"
      ],
      "metadata": {
        "id": "dOpHQ6DYy272"
      }
    },
    {
      "cell_type": "code",
      "source": [
        "ids = {'user1': [213, 213, 213, 15, 213], \n",
        "       'user2': [54, 54, 119, 119, 119], \n",
        "       'user3': [213, 98, 98, 35]}\n",
        "\n",
        "geo_tags = set()\n",
        "\n",
        "for geo in ids.values():\n",
        "    geo_tags = geo_tags.union(set(geo))\n",
        "\n",
        "print(geo_tags)"
      ],
      "metadata": {
        "id": "4JLupJOhzAT9",
        "colab": {
          "base_uri": "https://localhost:8080/"
        },
        "outputId": "b1425fae-2af8-4beb-b15c-5482bc766f7f"
      },
      "execution_count": null,
      "outputs": [
        {
          "output_type": "stream",
          "name": "stdout",
          "text": [
            "{98, 35, 213, 54, 119, 15}\n"
          ]
        }
      ]
    },
    {
      "cell_type": "markdown",
      "source": [
        "# Задание 2\n",
        "Дана переменная, в которой хранится список поисковых запросов пользователя (пример структуры данных приведен ниже). Вам необходимо написать программу, которая выведет на экран распределение количества слов в запросах в требуемом виде.\n",
        "\n",
        "Пример работы программы:\n",
        "\n",
        "queries = [\n",
        "\n",
        "‘смотреть сериалы онлайн’,\n",
        "\n",
        "‘новости спорта’,\n",
        "\n",
        "‘афиша кино’,\n",
        "\n",
        "‘курс доллара’,\n",
        "\n",
        "‘сериалы этим летом’,\n",
        "\n",
        "‘курс по питону’,\n",
        "\n",
        "‘сериалы про спорт’\n",
        "\n",
        "]\n",
        "\n",
        "Результат:\n",
        "\n",
        "Поисковых запросов, содержащих 2 слов(а): 42.86%\n",
        "\n",
        "Поисковых запросов, содержащих 3 слов(а): 57.14%"
      ],
      "metadata": {
        "id": "PyhBlG0LzBIm"
      }
    },
    {
      "cell_type": "code",
      "source": [
        "queries = [\n",
        "'смотреть сериалы онлайн',\n",
        "'новости спорта',\n",
        "'афиша кино',\n",
        "'курс доллара',\n",
        "'сериалы этим летом',\n",
        "'курс по питону',\n",
        "'сериалы про спорт'\n",
        "]\n",
        "\n",
        "lists = []\n",
        "\n",
        "for item in queries:\n",
        "    lists.append(len(item.split()))\n",
        "\n",
        "words = 1\n",
        "\n",
        "while words <= max(lists):\n",
        "    if lists.count(words) >0:\n",
        "        print(f'Поисковых запросов, содержащих {words} слов(а): {round(lists.count(words)*100/len(lists),2)}%')\n",
        "    words += 1"
      ],
      "metadata": {
        "colab": {
          "base_uri": "https://localhost:8080/"
        },
        "id": "dC2tjG-Ab1tK",
        "outputId": "b5f65e63-6f2c-4429-a447-5c2c2a17b77c"
      },
      "execution_count": null,
      "outputs": [
        {
          "output_type": "stream",
          "name": "stdout",
          "text": [
            "Поисковых запросов, содержащих 2 слов(а): 42.86%\n",
            "Поисковых запросов, содержащих 3 слов(а): 57.14%\n"
          ]
        }
      ]
    },
    {
      "cell_type": "markdown",
      "source": [
        "# Задание 3\n",
        "Дана переменная, в которой хранится информация о затратах и доходе рекламных кампаний по различным источникам. Необходимо дополнить исходную структуру показателем ROI, который рассчитаем по формуле: (revenue / cost - 1) * 100\n",
        "\n",
        "Пример работы программы:\n",
        "\n",
        "results = {\n",
        "\n",
        "‘vk’: {‘revenue’: 103, ‘cost’: 98},\n",
        "\n",
        "‘yandex’: {‘revenue’: 179, ‘cost’: 153},\n",
        "\n",
        "‘facebook’: {‘revenue’: 103, ‘cost’: 110},\n",
        "\n",
        "‘adwords’: {‘revenue’: 35, ‘cost’: 34},\n",
        "\n",
        "‘twitter’: {‘revenue’: 11, ‘cost’: 24},\n",
        "\n",
        "}\n",
        "\n",
        "Результат:\n",
        "\n",
        "{‘adwords’: {‘revenue’: 35, ‘cost’: 34, ‘ROI’: 2.94},\n",
        "\n",
        "‘facebook’: {‘revenue’: 103, ‘cost’: 110, ‘ROI’: -6.36},\n",
        "\n",
        "‘twitter’: {‘revenue’: 11, ‘cost’: 24, ‘ROI’: -54.17},\n",
        "\n",
        "‘vk’: {‘revenue’: 103, ‘cost’: 98, ‘ROI’: 5.1},\n",
        "\n",
        "‘yandex’: {‘revenue’: 179, ‘cost’: 153, ‘ROI’: 16.99}}"
      ],
      "metadata": {
        "id": "xG6WPhVPzFNH"
      }
    },
    {
      "cell_type": "code",
      "source": [
        "results = {\n",
        "'vk': {'revenue': 103, 'cost': 98},\n",
        "'yandex': {'revenue': 179, 'cost': 153},\n",
        "'facebook': {'revenue': 103, 'cost': 110},\n",
        "'adwords': {'revenue': 35, 'cost': 34},\n",
        "'twitter': {'revenue': 11, 'cost': 24},\n",
        "}\n",
        "\n",
        "roi = {}\n",
        "\n",
        "for row,values in results.items():\n",
        "    roi.update({row:{'ROI':round((values['revenue'] / values['cost'] - 1) * 100, 2), 'cost':values['cost'], 'revenue':values['revenue']}})\n",
        "\n",
        "roi"
      ],
      "metadata": {
        "id": "CRlft4n5zKi3",
        "colab": {
          "base_uri": "https://localhost:8080/"
        },
        "outputId": "f5718da4-5780-446e-e8cb-f8129903abca"
      },
      "execution_count": null,
      "outputs": [
        {
          "output_type": "execute_result",
          "data": {
            "text/plain": [
              "{'vk': {'ROI': 5.1, 'cost': 98, 'revenue': 103},\n",
              " 'yandex': {'ROI': 16.99, 'cost': 153, 'revenue': 179},\n",
              " 'facebook': {'ROI': -6.36, 'cost': 110, 'revenue': 103},\n",
              " 'adwords': {'ROI': 2.94, 'cost': 34, 'revenue': 35},\n",
              " 'twitter': {'ROI': -54.17, 'cost': 24, 'revenue': 11}}"
            ]
          },
          "metadata": {},
          "execution_count": 2
        }
      ]
    },
    {
      "cell_type": "markdown",
      "source": [
        "# Задание 4\n",
        "Дана переменная, в которой хранится статистика рекламных каналов по объемам продаж (пример структуры данных приведен ниже). Напишите программу, которая возвращает название канала с максимальным объемом продаж.\n",
        "\n",
        "Пример работы программы:\n",
        "\n",
        "stats = {‘facebook’: 55, ‘yandex’: 115, ‘vk’: 120, ‘google’: 99, ‘email’: 42, ‘ok’: 98}\n",
        "\n",
        "Результат: Максимальный объем продаж на рекламном канале: vk"
      ],
      "metadata": {
        "id": "SqACRO2izK0H"
      }
    },
    {
      "cell_type": "code",
      "source": [
        "stats = {'facebook': 55, 'yandex': 115, 'vk': 120, 'google': 99, 'email': 42, 'ok': 98}\n",
        "\n",
        "for channel, amount in stats.items():\n",
        "     if amount == max(list(stats.values())):\n",
        "         print(f'Максимальный объем продаж на рекламном канале: {channel}')\n",
        "        "
      ],
      "metadata": {
        "id": "Z9OY3AWrzNXc",
        "colab": {
          "base_uri": "https://localhost:8080/"
        },
        "outputId": "2c6d13b2-2a9e-46b1-cde1-2d4beab59e52"
      },
      "execution_count": null,
      "outputs": [
        {
          "output_type": "stream",
          "name": "stdout",
          "text": [
            "Максимальный объем продаж на рекламном канале: vk\n"
          ]
        }
      ]
    },
    {
      "cell_type": "markdown",
      "source": [
        "# Задание 5 (необязательно)\n",
        "Дан список произвольной длины. Необходимо написать код, который на основе исходного списка составит словарь такого уровня вложенности, какова длина исхондого списка.\n",
        "\n",
        "Примеры работы программы:\n",
        "\n",
        "my_list = [‘2018-01-01’, ‘yandex’, ‘cpc’, 100]\n",
        "\n",
        "Результат: {‘2018-01-01’: {‘yandex’: {‘cpc’: 100}}}\n",
        "\n",
        "my_list = [‘a’, ‘b’, ‘c’, ‘d’, ‘e’, ‘f’]\n",
        "\n",
        "Результат: {‘a’: {‘b’: {‘c’: {‘d’: {‘e’: ‘f’}}}}}"
      ],
      "metadata": {
        "id": "VvjWTgn3zN8E"
      }
    },
    {
      "cell_type": "code",
      "source": [
        "my_list = ['2018-01-01', 'yandex', 'cpc', 100]\n",
        "\n",
        "long = len(my_list) - 1\n",
        "\n",
        "my_dict = {}\n",
        "\n",
        "my_dict[my_list[long - 1]] = my_list[long]\n",
        "\n",
        "long = long - 1\n",
        "\n",
        "while long > 0:\n",
        "    long = long - 1\n",
        "    my_dict2=my_dict.copy()\n",
        "    my_dict.clear()\n",
        "    my_dict[my_list[long]] = my_dict2\n",
        "print(f'Результат: {my_dict}')"
      ],
      "metadata": {
        "id": "Be8LBF9GzSYs",
        "colab": {
          "base_uri": "https://localhost:8080/"
        },
        "outputId": "42506835-8745-46cf-bd6e-816a31ee1a14"
      },
      "execution_count": null,
      "outputs": [
        {
          "output_type": "stream",
          "name": "stdout",
          "text": [
            "Результат: {'2018-01-01': {'yandex': {'cpc': 100}}}\n"
          ]
        }
      ]
    },
    {
      "cell_type": "markdown",
      "source": [
        "# Задание 6 (необязательно)\n",
        "Дана книга рецептов с информацией о том, сколько ингредиентов нужно для приготовления блюда в расчете на одну порцию (пример данных представлен ниже).\n",
        "Напишите программу, которая будет запрашивать у пользователя количество порций для приготовления этих блюд и отображать информацию о суммарном количестве требуемых ингредиентов в указанном виде.\n",
        "Внимание! Одинаковые ингридиенты с разными размерностями нужно считать раздельно!\n",
        "Пример работы программы:\n",
        "\n",
        "cook_book = {\n",
        "\n",
        "‘салат’: [\n",
        "\n",
        "{‘ingridient_name’: ‘сыр’, ‘quantity’: 50, ‘measure’: ‘гр’},\n",
        "\n",
        "{‘ingridient_name’: ‘томаты’, ‘quantity’: 2, ‘measure’: ‘шт’},\n",
        "\n",
        "{‘ingridient_name’: ‘огурцы’, ‘quantity’: 20, ‘measure’: ‘гр’},\n",
        "\n",
        "{‘ingridient_name’: ‘маслины’, ‘quantity’: 10, ‘measure’: ‘гр’},\n",
        "\n",
        "{‘ingridient_name’: ‘оливковое масло’, ‘quantity’: 20, ‘measure’: ‘мл’},\n",
        "\n",
        "{‘ingridient_name’: ‘салат’, ‘quantity’: 10, ‘measure’: ‘гр’},\n",
        "\n",
        "{‘ingridient_name’: ‘перец’, ‘quantity’: 20, ‘measure’: ‘гр’}\n",
        "\n",
        "],\n",
        "\n",
        "‘пицца’: [\n",
        "\n",
        "{‘ingridient_name’: ‘сыр’, ‘quantity’: 20, ‘measure’: ‘гр’},\n",
        "\n",
        "{‘ingridient_name’: ‘колбаса’, ‘quantity’: 30, ‘measure’: ‘гр’},\n",
        "\n",
        "{‘ingridient_name’: ‘бекон’, ‘quantity’: 30, ‘measure’: ‘гр’},\n",
        "\n",
        "{‘ingridient_name’: ‘оливки’, ‘quantity’: 10, ‘measure’: ‘гр’},\n",
        "\n",
        "{‘ingridient_name’: ‘томаты’, ‘quantity’: 20, ‘measure’: ‘гр’},\n",
        "\n",
        "{‘ingridient_name’: ‘тесто’, ‘quantity’: 100, ‘measure’: ‘гр’},\n",
        "\n",
        "],\n",
        "\n",
        "‘лимонад’: [\n",
        "\n",
        "{‘ingridient_name’: ‘лимон’, ‘quantity’: 1, ‘measure’: ‘шт’},\n",
        "\n",
        "{‘ingridient_name’: ‘вода’, ‘quantity’: 200, ‘measure’: ‘мл’},\n",
        "\n",
        "{‘ingridient_name’: ‘сахар’, ‘quantity’: 10, ‘measure’: ‘гр’},\n",
        "\n",
        "{‘ingridient_name’: ‘лайм’, ‘quantity’: 20, ‘measure’: ‘гр’},\n",
        "\n",
        "]\n",
        "\n",
        "}\n",
        "\n",
        "Введите количество порций:\n",
        "\n",
        "3\n",
        "\n",
        "Результат:\n",
        "\n",
        "Сыр: 210 гр\n",
        "\n",
        "Томаты: 6 шт\n",
        "\n",
        "Огурцы: 60 гр\n",
        "\n",
        "Маслины: 30 гр\n",
        "\n",
        "Оливковое масло: 60 мл\n",
        "\n",
        "Салат: 30 гр\n",
        "\n",
        "Перец: 60 гр\n",
        "\n",
        "Колбаса: 90 гр\n",
        "\n",
        "Бекон: 90 гр\n",
        "\n",
        "Оливки: 30 гр\n",
        "\n",
        "Томаты: 60 гр\n",
        "\n",
        "Тесто: 300 гр\n",
        "\n",
        "Лимон: 3 шт\n",
        "\n",
        "Вода: 600 мл\n",
        "\n",
        "Сахар: 30 гр\n",
        "\n",
        "Лайм: 60 гр"
      ],
      "metadata": {
        "id": "76DJeMrRzSo0"
      }
    },
    {
      "cell_type": "code",
      "source": [
        "cook_book = {\n",
        "'салат': [\n",
        "{'ingridient_name': 'сыр', 'quantity': 50, 'measure': 'гр'},\n",
        "{'ingridient_name': 'томаты', 'quantity': 2, 'measure': 'шт'},\n",
        "{'ingridient_name': 'огурцы', 'quantity': 20, 'measure': 'гр'},\n",
        "{'ingridient_name': 'маслины', 'quantity': 10, 'measure': 'гр'},\n",
        "{'ingridient_name': 'оливковое масло', 'quantity': 20, 'measure': 'мл'},\n",
        "{'ingridient_name': 'салат', 'quantity': 10, 'measure': 'гр'},\n",
        "{'ingridient_name': 'перец', 'quantity': 20, 'measure': 'гр'}\n",
        "],\n",
        "'пицца': [\n",
        "{'ingridient_name': 'сыр', 'quantity': 20, 'measure': 'гр'},\n",
        "{'ingridient_name': 'колбаса', 'quantity': 30, 'measure': 'гр'},\n",
        "{'ingridient_name': 'бекон', 'quantity': 30, 'measure': 'гр'},\n",
        "{'ingridient_name': 'оливки', 'quantity': 10, 'measure': 'гр'},\n",
        "{'ingridient_name': 'томаты', 'quantity': 20, 'measure': 'гр'},\n",
        "{'ingridient_name': 'тесто', 'quantity': 100, 'measure': 'гр'},\n",
        "],\n",
        "'лимонад': [\n",
        "{'ingridient_name': 'лимон', 'quantity': 1, 'measure': 'шт'},\n",
        "{'ingridient_name': 'вода', 'quantity': 200, 'measure': 'мл'},\n",
        "{'ingridient_name': 'сахар', 'quantity': 10, 'measure': 'гр'},\n",
        "{'ingridient_name': 'лайм', 'quantity': 20, 'measure': 'гр'},\n",
        "]\n",
        "}\n",
        "\n",
        "my_cook_book={}\n",
        "\n",
        "portion=int(input('Введите количество порций: '))\n",
        "\n",
        "for item in cook_book.items():\n",
        "    for ingridient in item[1]:\n",
        "        ingridient_measure = ingridient['ingridient_name'].replace(' ','_') + ' ' + ingridient['measure']\n",
        "        quantity = ingridient['quantity']\n",
        "        if ingridient_measure in my_cook_book:\n",
        "            my_cook_book[ingridient_measure] += quantity * portion\n",
        "        else:\n",
        "            my_cook_book.setdefault(ingridient_measure, quantity * portion)\n",
        "            \n",
        "for item, values in my_cook_book.items():\n",
        "    name = item.split()\n",
        "    print(name[0].capitalize().replace('_',' ') + ':', values, name[1])"
      ],
      "metadata": {
        "id": "RTcIaffMzXo9",
        "colab": {
          "base_uri": "https://localhost:8080/"
        },
        "outputId": "d1b3748a-61a7-410f-dd7e-aff25673d4f3"
      },
      "execution_count": null,
      "outputs": [
        {
          "output_type": "stream",
          "name": "stdout",
          "text": [
            "Введите количество порций: 3\n",
            "Сыр: 210 гр\n",
            "Томаты: 6 шт\n",
            "Огурцы: 60 гр\n",
            "Маслины: 30 гр\n",
            "Оливковое масло: 60 мл\n",
            "Салат: 30 гр\n",
            "Перец: 60 гр\n",
            "Колбаса: 90 гр\n",
            "Бекон: 90 гр\n",
            "Оливки: 30 гр\n",
            "Томаты: 60 гр\n",
            "Тесто: 300 гр\n",
            "Лимон: 3 шт\n",
            "Вода: 600 мл\n",
            "Сахар: 30 гр\n",
            "Лайм: 60 гр\n"
          ]
        }
      ]
    }
  ]
}