{
  "nbformat": 4,
  "nbformat_minor": 0,
  "metadata": {
    "colab": {
      "provenance": []
    },
    "kernelspec": {
      "name": "python3",
      "display_name": "Python 3"
    },
    "language_info": {
      "name": "python"
    }
  },
  "cells": [
    {
      "cell_type": "markdown",
      "source": [
        "# Задание 1\n",
        "Печатные газеты использовали свой формат дат для каждого выпуска. Для каждой газеты из списка напишите формат указанной даты для перевода в объект datetime:\n",
        "The Moscow Times - Wednesday, October 2, 2002\n",
        "The Guardian - Friday, 11.10.13\n",
        "Daily News - Thursday, 18 August 1977\n",
        "\n",
        "# Задание 2\n",
        "Дан поток дат в формате YYYY-MM-DD, в которых встречаются некорректные значения:\n",
        "stream = [‘2018-04-02’, ‘2018-02-29’, ‘2018-19-02’]\n",
        "\n",
        "Напишите функцию, которая проверяет эти даты на корректность. Т. е. для каждой даты возвращает True (дата корректна) или False (некорректная дата).\n",
        "\n",
        "# Задание 3\n",
        "Напишите функцию date_range, которая возвращает список дат за период от start_date до end_date. Даты должны вводиться в формате YYYY-MM-DD. В случае неверного формата или при start_date > end_date должен возвращаться пустой список.\n",
        "\n",
        "# Задание 4 (необязательное)\n",
        "Ваш коллега прислал код функции:\n",
        "\n",
        "DEFAULT_USER_COUNT = 3\n",
        "\n",
        "def delete_and_return_last_user(region, default_list=[‘A100’, ‘A101’, ‘A102’]):\n",
        "\"\"“\n",
        "Удаляет из списка default_list последнего пользователя\n",
        "и возвращает ID нового последнего пользователя.\n",
        "”\"\"\n",
        "element_to_delete = default_list[-1]\n",
        "default_list.remove(element_to_delete)\n",
        "\n",
        "1\n",
        "return default_list[DEFAULT_USER_COUNT-2]\n",
        "При однократном вызове этой функции все работает корректно:\n",
        "delete_and_return_last_user(1)\n",
        "‘A101’\n",
        "\n",
        "Однако, при повторном вызове получается ошибка IndexError: list index out of range.\n",
        "\n",
        "Задание:\n",
        "\n",
        "Что значит ошибка list index out of range?\n",
        "Почему при первом запуске функция работает корректно, а при втором - нет?\n"
      ],
      "metadata": {
        "id": "-uOYe1h9zMfe"
      }
    },
    {
      "cell_type": "code",
      "source": [
        "from datetime import timedelta\n",
        "from datetime import datetime"
      ],
      "metadata": {
        "id": "luulG2Z7zUKe"
      },
      "execution_count": null,
      "outputs": []
    },
    {
      "cell_type": "code",
      "source": [
        "The_Moscow_Times = datetime.strptime(\"Wednesday, October 2, 2002\", \"%A, %B %d, %Y\")\n",
        "The_Moscow_Times"
      ],
      "metadata": {
        "colab": {
          "base_uri": "https://localhost:8080/"
        },
        "id": "QxQCYWqrzeMl",
        "outputId": "6cbf0a71-0bc4-45e1-f0af-8e7b628718fc"
      },
      "execution_count": null,
      "outputs": [
        {
          "output_type": "execute_result",
          "data": {
            "text/plain": [
              "datetime.datetime(2002, 10, 2, 0, 0)"
            ]
          },
          "metadata": {},
          "execution_count": 2
        }
      ]
    },
    {
      "cell_type": "code",
      "source": [
        "The_Guardian = datetime.strptime(\"Friday, 11.10.13\", \"%A, %d.%m.%y\")\n",
        "The_Guardian"
      ],
      "metadata": {
        "colab": {
          "base_uri": "https://localhost:8080/"
        },
        "id": "F0qLxLKUzr0B",
        "outputId": "899293b7-bfb9-4eaa-9c46-ca02d7a51043"
      },
      "execution_count": null,
      "outputs": [
        {
          "output_type": "execute_result",
          "data": {
            "text/plain": [
              "datetime.datetime(2013, 10, 11, 0, 0)"
            ]
          },
          "metadata": {},
          "execution_count": 3
        }
      ]
    },
    {
      "cell_type": "code",
      "source": [
        "Daily_News = datetime.strptime(\"Thursday, 18 August 1977\", \"%A, %d %B %Y\") \n",
        "Daily_News"
      ],
      "metadata": {
        "colab": {
          "base_uri": "https://localhost:8080/"
        },
        "id": "7sMyq6Nbz72x",
        "outputId": "b2fc8995-6736-479f-81e0-950c7bde6edb"
      },
      "execution_count": null,
      "outputs": [
        {
          "output_type": "execute_result",
          "data": {
            "text/plain": [
              "datetime.datetime(1977, 8, 18, 0, 0)"
            ]
          },
          "metadata": {},
          "execution_count": 4
        }
      ]
    },
    {
      "cell_type": "code",
      "source": [
        "stream = ['2018-04-02', '2018-02-29', '2018-19-02']\n",
        "def сheckdate(dates):\n",
        "    \"\"\"\n",
        "    Функция проверяет корректность дат\n",
        "    \"\"\"\n",
        "    for date in dates:\n",
        "        try:\n",
        "            cdate = datetime.strptime(date, \"%Y-%m-%d\") \n",
        "        except:\n",
        "            print(date, False)\n",
        "        else:\n",
        "            print(date, True)"
      ],
      "metadata": {
        "id": "A6WUaBMc0H-6"
      },
      "execution_count": null,
      "outputs": []
    },
    {
      "cell_type": "code",
      "source": [
        "сheckdate(stream)"
      ],
      "metadata": {
        "colab": {
          "base_uri": "https://localhost:8080/"
        },
        "id": "MQwFZ7iw0Zi1",
        "outputId": "c6a7e405-93a6-4381-d073-a5cfd9212589"
      },
      "execution_count": null,
      "outputs": [
        {
          "output_type": "stream",
          "name": "stdout",
          "text": [
            "2018-04-02 True\n",
            "2018-02-29 False\n",
            "2018-19-02 False\n"
          ]
        }
      ]
    },
    {
      "cell_type": "code",
      "source": [
        "def list_of_date(start_date, end_date):\n",
        "    \"\"\"\n",
        "    Функция выводит список дат за указанный период\n",
        "    \"\"\"\n",
        "    date_list = []\n",
        "    try:\n",
        "        start_date = datetime.strptime(start_date, \"%Y-%m-%d\") \n",
        "        end_date = datetime.strptime(end_date, \"%Y-%m-%d\") \n",
        "    except:\n",
        "        print(date_list) #pass\n",
        "    else:\n",
        "        while end_date >= start_date:\n",
        "            date_list.append(datetime.strftime(start_date, \"%Y-%m-%d\"))\n",
        "            start_date += timedelta(days=1)                \n",
        "        print(date_list)"
      ],
      "metadata": {
        "id": "DKE8po0h0d_1"
      },
      "execution_count": null,
      "outputs": []
    },
    {
      "cell_type": "code",
      "source": [
        "list_of_date('2022-11-01','2022-12-01')"
      ],
      "metadata": {
        "colab": {
          "base_uri": "https://localhost:8080/"
        },
        "id": "wqbfifAP1DX9",
        "outputId": "dc586a4e-39c1-4104-9990-2bc84af75ee2"
      },
      "execution_count": null,
      "outputs": [
        {
          "output_type": "stream",
          "name": "stdout",
          "text": [
            "['2022-11-01', '2022-11-02', '2022-11-03', '2022-11-04', '2022-11-05', '2022-11-06', '2022-11-07', '2022-11-08', '2022-11-09', '2022-11-10', '2022-11-11', '2022-11-12', '2022-11-13', '2022-11-14', '2022-11-15', '2022-11-16', '2022-11-17', '2022-11-18', '2022-11-19', '2022-11-20', '2022-11-21', '2022-11-22', '2022-11-23', '2022-11-24', '2022-11-25', '2022-11-26', '2022-11-27', '2022-11-28', '2022-11-29', '2022-11-30', '2022-12-01']\n"
          ]
        }
      ]
    },
    {
      "cell_type": "code",
      "source": [
        "list_of_date('2022-11-01','2021-11-35')"
      ],
      "metadata": {
        "colab": {
          "base_uri": "https://localhost:8080/"
        },
        "id": "WApD5OE71TTP",
        "outputId": "893ba018-8165-4a30-e0ab-474a01041efe"
      },
      "execution_count": null,
      "outputs": [
        {
          "output_type": "stream",
          "name": "stdout",
          "text": [
            "[]\n"
          ]
        }
      ]
    },
    {
      "cell_type": "markdown",
      "source": [
        "list index out of range - обращение к списку по неверному индексу. \n",
        "В начале у нас есть 0, 1, 2 мы удаляем 2 и выводим 3 - 2 = 1.\n",
        "При следующем запуске мы удаляем 1, но пытаемся его же и вывести, т.к. не меняем в функции DEFAULT_USER_COUNT"
      ],
      "metadata": {
        "id": "dxmfufwG1nwc"
      }
    }
  ]
}