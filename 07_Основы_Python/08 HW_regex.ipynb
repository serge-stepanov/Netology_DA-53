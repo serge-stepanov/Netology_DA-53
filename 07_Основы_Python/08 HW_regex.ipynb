{
  "nbformat": 4,
  "nbformat_minor": 0,
  "metadata": {
    "colab": {
      "provenance": []
    },
    "kernelspec": {
      "name": "python3",
      "display_name": "Python 3"
    },
    "language_info": {
      "name": "python"
    }
  },
  "cells": [
    {
      "cell_type": "markdown",
      "source": [
        "# Задание 1\n",
        "Напишите функцию, которая принимает на вход строку и проверяет является ли она валидным транспортным номером (1 буква, 3 цифры, 2 буквы, 2-3 цифры). Обратите внимание, что не все буквы кириллического алфавита используются в транспортных номерах.\n",
        "\n",
        "Если номер валиден, то функция должна возвращать отдельно номер и регион.\n",
        "\n",
        "Примеры работы программы:\n",
        "\n",
        "car_id = 'A222BC96’\n",
        "\n",
        "Результат: Номер A222BС валиден. Регион: 96\n",
        "\n",
        "car_id = 'АБ22ВВ193’\n",
        "\n",
        "Результат: Номер не валиден"
      ],
      "metadata": {
        "id": "G8-P43WLTxpF"
      }
    },
    {
      "cell_type": "code",
      "source": [
        "import re\n",
        "def car_id(car_id):\n",
        "    '''\n",
        "    Функция проверки корректности транспортных номеров \n",
        "    '''\n",
        "    regex = re.findall(r'([АВЕКМНОРСТУХ]\\d{3}[АВЕКМНОРСТУХ]{2})(\\d{2,3})', car_id)\n",
        "    if regex:\n",
        "        print(f'Номер {car_id} валиден. Регион: {regex[0][1]}')\n",
        "    else:\n",
        "        print('Результат: Номер не валиден')"
      ],
      "metadata": {
        "id": "kKpHGhn6UFuC"
      },
      "execution_count": null,
      "outputs": []
    },
    {
      "cell_type": "code",
      "source": [
        "car_id(\"А222ВС96\")"
      ],
      "metadata": {
        "colab": {
          "base_uri": "https://localhost:8080/"
        },
        "id": "U8X_OyQnXyg9",
        "outputId": "6c9809e4-da79-46c9-b427-5ac70e6fe4ad"
      },
      "execution_count": null,
      "outputs": [
        {
          "output_type": "stream",
          "name": "stdout",
          "text": [
            "Номер А222ВС96 валиден. Регион: 96\n"
          ]
        }
      ]
    },
    {
      "cell_type": "code",
      "source": [
        "car_id(\"АБ22ВВ193\")"
      ],
      "metadata": {
        "colab": {
          "base_uri": "https://localhost:8080/"
        },
        "id": "q_XTL7UcXyXA",
        "outputId": "d9f976f2-78b9-4e26-b65a-32e98470f2ce"
      },
      "execution_count": null,
      "outputs": [
        {
          "output_type": "stream",
          "name": "stdout",
          "text": [
            "Результат: Номер не валиден\n"
          ]
        }
      ]
    },
    {
      "cell_type": "markdown",
      "source": [
        "# Задание 2\n",
        "Напишите функцию, которая будет удалять все последовательные повторы слов из заданной строки при помощи регулярных выражений.\n",
        "\n",
        "Пример работы программы:\n",
        "\n",
        "some_string = ‘Напишите функцию функцию, которая будет будет будет будет удалять все все все все последовательные повторы слов из из из из заданной строки строки при помощи регулярных выражений.’\n",
        "\n",
        "Результат:\n",
        "\n",
        "Напишите функцию, которая будет удалять все последовательные повторы слов из заданной строки при помощи регулярных выражений."
      ],
      "metadata": {
        "id": "MwtLMRj4UGHn"
      }
    },
    {
      "cell_type": "code",
      "source": [
        "some_string = 'Напишите функцию функцию, которая будет будет будет будет удалять все все все все последовательные повторы слов из из из из заданной строки строки при помощи регулярных выражений.'"
      ],
      "metadata": {
        "id": "5dOFw1PYUKSR"
      },
      "execution_count": null,
      "outputs": []
    },
    {
      "cell_type": "code",
      "source": [
        "def del_replay(some_string):\n",
        "    return re.sub(r'(\\w+)(\\s\\1)+', r'\\1', some_string)"
      ],
      "metadata": {
        "id": "r8gfix2JY1Cq"
      },
      "execution_count": null,
      "outputs": []
    },
    {
      "cell_type": "code",
      "source": [
        "del_replay(some_string)"
      ],
      "metadata": {
        "colab": {
          "base_uri": "https://localhost:8080/",
          "height": 36
        },
        "id": "icN21ZTLZGu8",
        "outputId": "11b05412-0a75-4d38-80ba-a559dd962c6b"
      },
      "execution_count": null,
      "outputs": [
        {
          "output_type": "execute_result",
          "data": {
            "text/plain": [
              "'Напишите функцию, которая будет удалять все последовательные повторы слов из заданной строки при помощи регулярных выражений.'"
            ],
            "application/vnd.google.colaboratory.intrinsic+json": {
              "type": "string"
            }
          },
          "metadata": {},
          "execution_count": 6
        }
      ]
    },
    {
      "cell_type": "markdown",
      "source": [
        "# Задание 3\n",
        "Напишите функцию, которая будет возвращать акроним по переданной в нее строке со словами.\n",
        "\n",
        "Примеры работы программы:\n",
        "\n",
        "some_words = 'Информационные технологии’\n",
        "\n",
        "Результат: ИТ\n",
        "\n",
        "some_words = 'Near Field Communication’\n",
        "\n",
        "Результат: NFC"
      ],
      "metadata": {
        "id": "3ykaOgc-UK0d"
      }
    },
    {
      "cell_type": "code",
      "source": [
        "def acronym(some_words):\n",
        "    text = ''\n",
        "    result = re.findall(r'(\\b\\w)', some_words)\n",
        "    for i in result:\n",
        "        text += i\n",
        "    print(str.upper(text))"
      ],
      "metadata": {
        "id": "x1aY8x9EY0KD"
      },
      "execution_count": null,
      "outputs": []
    },
    {
      "cell_type": "code",
      "source": [
        "acronym('Near Field Communication')"
      ],
      "metadata": {
        "colab": {
          "base_uri": "https://localhost:8080/"
        },
        "id": "OKCupasIUP12",
        "outputId": "57fe4666-183a-4ffd-a898-423cc635ec06"
      },
      "execution_count": null,
      "outputs": [
        {
          "output_type": "stream",
          "name": "stdout",
          "text": [
            "NFC\n"
          ]
        }
      ]
    },
    {
      "cell_type": "code",
      "source": [
        "acronym('Информационные технологии')"
      ],
      "metadata": {
        "colab": {
          "base_uri": "https://localhost:8080/"
        },
        "id": "oD1F2Ptrz68j",
        "outputId": "b0265771-3dfa-4cbb-db0c-d4433200d10f"
      },
      "execution_count": null,
      "outputs": [
        {
          "output_type": "stream",
          "name": "stdout",
          "text": [
            "ИТ\n"
          ]
        }
      ]
    },
    {
      "cell_type": "markdown",
      "source": [
        "# Задание 4\n",
        "Напишите функцию, которая будет принимать на вход список email-адресов и выводить их распределение по доменным зонам.\n",
        "\n",
        "Пример работы программы:\n",
        "\n",
        "emails = [‘test@gmail.com’, ‘xyz@test.in’, ‘test@ya.ru’, ‘xyz@mail.ru’, ‘xyz@ya.ru’, ‘xyz@gmail.com’]\n",
        "\n",
        "Результат:\n",
        "\n",
        "gmail.com: 2\n",
        "\n",
        "test.in: 1\n",
        "\n",
        "ya.ru: 2\n",
        "\n",
        "mail.ru: 1"
      ],
      "metadata": {
        "id": "StxL_CqwUTIF"
      }
    },
    {
      "cell_type": "code",
      "source": [
        "emails = ['test@gmail.com', 'xyz@test.in', 'test@ya.ru', 'xyz@mail.ru', 'xyz@ya.ru', 'xyz@gmail.com']"
      ],
      "metadata": {
        "id": "XuFd0sD1UVou"
      },
      "execution_count": null,
      "outputs": []
    },
    {
      "cell_type": "code",
      "source": [
        "def mail(emails):\n",
        "    my_list=[]\n",
        "    for i in emails:\n",
        "        my_list.extend(re.findall(r'(?<=@)\\w+\\.\\w{2,3}',i))\n",
        "    for i in set(my_list):\n",
        "        print(i, my_list.count(i))"
      ],
      "metadata": {
        "id": "pIZfdTnZ0qPh"
      },
      "execution_count": null,
      "outputs": []
    },
    {
      "cell_type": "code",
      "source": [
        "mail(emails)"
      ],
      "metadata": {
        "colab": {
          "base_uri": "https://localhost:8080/"
        },
        "id": "6ENiKVal0m18",
        "outputId": "386e275e-8946-4ab3-cbec-a1e418fbbf31"
      },
      "execution_count": null,
      "outputs": [
        {
          "output_type": "stream",
          "name": "stdout",
          "text": [
            "mail.ru 1\n",
            "ya.ru 2\n",
            "gmail.com 2\n",
            "test.in 1\n"
          ]
        }
      ]
    }
  ]
}