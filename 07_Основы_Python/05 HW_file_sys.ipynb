{
  "nbformat": 4,
  "nbformat_minor": 0,
  "metadata": {
    "colab": {
      "provenance": []
    },
    "kernelspec": {
      "name": "python3",
      "display_name": "Python 3"
    },
    "language_info": {
      "name": "python"
    }
  },
  "cells": [
    {
      "cell_type": "markdown",
      "source": [
        "# **Домашнее задание**\n",
        "\n",
        "1. Переведите содержимое файла purchase_log.txt в словарь purchases вида:\n",
        "{‘1840e0b9d4’: ‘Продукты’, …}\n",
        "\n",
        "2. Для каждого user_id в файле visit_log.csv определите третий столбец с категорией покупки (если покупка была, сам файл visit_log.csv изменять не надо). Запишите в файл funnel.csv визиты из файла visit_log.csv, в которых были покупки с указанием категории.\n",
        "Учтите условия на данные:\n",
        "содержимое purchase_log.txt помещается в оперативную память компьютера\n",
        "содержимое visit_log.csv - нет; используйте только построчную обработку этого файла"
      ],
      "metadata": {
        "id": "VYAjvOHtx9uj"
      }
    },
    {
      "cell_type": "code",
      "source": [
        "import json"
      ],
      "metadata": {
        "id": "re4XX5LLyIgm"
      },
      "execution_count": null,
      "outputs": []
    },
    {
      "cell_type": "code",
      "source": [
        "purchases = {}\n",
        "with open('/content/drive/MyDrive/purchase_log.txt', encoding='utf-8') as file:\n",
        "    for line in file:\n",
        "        dict_ = json.loads(line)\n",
        "        purchases.update({dict_.values()})"
      ],
      "metadata": {
        "id": "koXwxUCkyYd6"
      },
      "execution_count": null,
      "outputs": []
    },
    {
      "cell_type": "code",
      "source": [
        "funnel_dict = {}\n",
        "\n",
        "with open('/content/drive/MyDrive/visit_log.csv') as log:\n",
        "    with open('funnel.csv', 'w', encoding='utf-8') as out:\n",
        "        purchase = open('/content/drive/MyDrive/purchase_log.txt', encoding='utf-8').readlines()\n",
        "        for element in purchase:\n",
        "            dict_ = json.loads(element)\n",
        "            funnel_dict.update({dict_.values()})\n",
        "        for line in log:\n",
        "            line = line.strip().split(',')\n",
        "            if line[0] in funnel_dict.keys():\n",
        "                out.write(line[0] + ',' + line[1] + ',' + str(funnel_dict.get(line[0])) + '\\n')"
      ],
      "metadata": {
        "id": "GECPuPwyzj-U"
      },
      "execution_count": null,
      "outputs": []
    }
  ]
}